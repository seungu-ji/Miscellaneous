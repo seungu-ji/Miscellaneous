{
  "nbformat": 4,
  "nbformat_minor": 0,
  "metadata": {
    "colab": {
      "name": "difference about error & residual.ipynb",
      "provenance": [],
      "authorship_tag": "ABX9TyNhQ36KpZWG7TlA9xnsRtup",
      "include_colab_link": true
    },
    "kernelspec": {
      "name": "python3",
      "display_name": "Python 3"
    }
  },
  "cells": [
    {
      "cell_type": "markdown",
      "metadata": {
        "id": "view-in-github",
        "colab_type": "text"
      },
      "source": [
        "<a href=\"https://colab.research.google.com/github/viriditass/Miscellaneous/blob/main/difference_about_error_%26_residual.ipynb\" target=\"_parent\"><img src=\"https://colab.research.google.com/assets/colab-badge.svg\" alt=\"Open In Colab\"/></a>"
      ]
    },
    {
      "cell_type": "markdown",
      "metadata": {
        "id": "dciQ-1yjI8lC"
      },
      "source": [
        "# **error & residual**"
      ]
    },
    {
      "cell_type": "markdown",
      "metadata": {
        "id": "cx_oiWgbJQTj"
      },
      "source": [
        "오차(error)에 비해 잔차(residual)는 조금 낯설 수 있다. "
      ]
    },
    {
      "cell_type": "markdown",
      "metadata": {
        "id": "0SxuAisMJXRe"
      },
      "source": [
        "만약 모집단에서 회귀식을 얻었다면, 그 회귀식을 통해 얻은 예측값과 실제 관측값의 차이가 오차이다. 반면 표본집단에서 회귀식을 얻었다면, 그 회귀식을 통해 얻은 예측값과 실제 관측값의 차이가 잔차이다. 둘의 차이는 모집단에서 얻은 것이냐 표본집단에서 얻은 것이냐 뿐이다. 나도 그렇지만, 많은 사람들이 오차와 잔차를 구분없이 혼동해서 사용한다. "
      ]
    },
    {
      "cell_type": "markdown",
      "metadata": {
        "id": "OGOi8_PlJZY2"
      },
      "source": [
        "사실상 우리는 대부분 표본집단에서 회귀식을 얻기 때문에, 잔차를 가지고 회귀식의 최적의 파라미터 값들을 추정한다. 즉, 잔차들의 제곱들을 더한 것(잔차제곱합)을 최소로 만들어주는 파라미터를 찾는 것이다. 이것이 바로 **최소제곱법(least squares method)**이다. 최소제곱법은 최소자승법과 동의어다."
      ]
    }
  ]
}