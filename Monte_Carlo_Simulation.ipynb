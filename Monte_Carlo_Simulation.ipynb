{
  "nbformat": 4,
  "nbformat_minor": 0,
  "metadata": {
    "colab": {
      "name": "Monte Carlo Simulation.ipynb",
      "provenance": [],
      "authorship_tag": "ABX9TyNnVVuG3PMnaQZSN6KWtTRc",
      "include_colab_link": true
    },
    "kernelspec": {
      "name": "python3",
      "display_name": "Python 3"
    }
  },
  "cells": [
    {
      "cell_type": "markdown",
      "metadata": {
        "id": "view-in-github",
        "colab_type": "text"
      },
      "source": [
        "<a href=\"https://colab.research.google.com/github/viriditass/Miscellaneous/blob/main/Monte_Carlo_Simulation.ipynb\" target=\"_parent\"><img src=\"https://colab.research.google.com/assets/colab-badge.svg\" alt=\"Open In Colab\"/></a>"
      ]
    },
    {
      "cell_type": "markdown",
      "metadata": {
        "id": "eWK8N5IqQ2i-"
      },
      "source": [
        "# **Monte Carlo Simulation**"
      ]
    },
    {
      "cell_type": "markdown",
      "metadata": {
        "id": "mubP-H7lQ_Uv"
      },
      "source": [
        "MIT 강의 링크: https://www.youtube.com/watch?v=OgO1gpXSUzU&ab_channel=MITOpenCourseWare"
      ]
    },
    {
      "cell_type": "markdown",
      "metadata": {
        "id": "d9uJb8TJRDAk"
      },
      "source": [
        "## **1. Histroy about Monte Carlo Simulation**"
      ]
    },
    {
      "cell_type": "markdown",
      "metadata": {
        "id": "JfsxmyFXR1_X"
      },
      "source": [
        "확률론의 개척자들이었던 도박사들이 자신이 게임을 이길 확률을 계산하기 위하여 여러 번의 임의추출을 통한 특정한 카드 조합이 나올 확률을 계산했습니다. 하지만 자신이 직접 게임을 계속 진행하는 것은 너무 비효율적이 었습니다. 이후 천재 수학자 폰 노이만이 이를 에니악으로 시뮬레이션을 해보게 됩니다. 이것이 바로 1949년 **Metropolis Uram**이 **모나코**의 유명한 도박 도시 **몬테카를로(Monte Carlo)**의 이름을 본 따 명명한 몬테카를로 시뮬레이션의 탄생 이야기입니다."
      ]
    },
    {
      "cell_type": "markdown",
      "metadata": {
        "id": "5zzCzKJNSg8W"
      },
      "source": [
        "## **2. What is Monte Carlo Simulation**"
      ]
    },
    {
      "cell_type": "markdown",
      "metadata": {
        "id": "c0qqrWbfV_cX"
      },
      "source": [
        "몬테카를로 시물레이션이란 알려지지 않은 값을 **추론적 통계(inferential statistics)**방법을 이용하여 추정하는 것을 의미합니다. 추론적 통계에서 중요한 개념은 **모집단(population)**과 **샘플(sample)**입니다."
      ]
    },
    {
      "cell_type": "markdown",
      "metadata": {
        "id": "UjOzPrSJWu8N"
      },
      "source": [
        "### **Population**"
      ]
    },
    {
      "cell_type": "markdown",
      "metadata": {
        "id": "dZ0J1-arXAW3"
      },
      "source": [
        "추후 모집단 링크:"
      ]
    },
    {
      "cell_type": "markdown",
      "metadata": {
        "id": "RJkgJPWTXDwh"
      },
      "source": [
        "### **Sample**"
      ]
    },
    {
      "cell_type": "markdown",
      "metadata": {
        "id": "BV09JIHuXu3k"
      },
      "source": [
        "추후 샘플 링크:"
      ]
    },
    {
      "cell_type": "markdown",
      "metadata": {
        "id": "WBmK-45AYF-K"
      },
      "source": [
        "### **Important of Random sample**"
      ]
    },
    {
      "cell_type": "markdown",
      "metadata": {
        "id": "wj_kIFzOYey1"
      },
      "source": [
        "만일, 동전을 총 4번을 던졌을 때 모두 앞면이 나왔다고 가정을 합시다. 그러면 5번째 동전은 앞면이 나온다고 확신할 수 있을까요? 아마 확신할 수 없을 겁니다."
      ]
    },
    {
      "cell_type": "markdown",
      "metadata": {
        "id": "v-rvpOoHZNwB"
      },
      "source": [
        "이번엔 100번을 던졌는데, 모두 앞면이 나왔다고 가정을 합시다. 이 경우는 동전의 양면이 모두 앞면이라고 의심할 것입니다. 그리고 101번째 동전을 예측하라 하면 아마 대부분 앞면이라고 예측할 겁니다."
      ]
    },
    {
      "cell_type": "markdown",
      "metadata": {
        "id": "TC3G5iJsZczX"
      },
      "source": [
        "이번 경우는 앞의 경우와 다르게 100번 중 54번이 앞면, 46번이 뒷면이 나왔다고 가정을 합시다. 주어진 데이터를 보면 앞면이 나올 확률은 54/100이 최고의 추정치일 것입니다."
      ]
    },
    {
      "cell_type": "markdown",
      "metadata": {
        "id": "Cc7gIIL3aDmo"
      },
      "source": [
        "**하지만 이런 추측을 아주 강하게 확신하기는 힘듭니다.** 왜냐하면 우연히 발생했을 수도 있으니깐요. 그렇다면 왜 샘플수가 2였을 때보다 100일 때가 더 나은 추측을 할 수 있었을까요?"
      ]
    },
    {
      "cell_type": "markdown",
      "metadata": {
        "id": "X4DwwBNiadou"
      },
      "source": [
        "### **Variance**"
      ]
    },
    {
      "cell_type": "markdown",
      "metadata": {
        "id": "jRxdYmcsajKn"
      },
      "source": [
        "정답은 바로 **분산**에 있습니다."
      ]
    },
    {
      "cell_type": "markdown",
      "metadata": {
        "id": "CMbOBlZpe-56"
      },
      "source": [
        "동전을 100번 던졌을 때 100번 모두 앞면이 나왔을 때는 **분산**이 없었습니다. 답이 항상 같았으니깐요. 분산이 적다는 것은 정답에 대한 확신을 강하게 만들어줍니다. 즉, 샘플을 통해 얻은 답이 모집단의 특성을 가리킨다는 것에 대한 확신입니다. 반면 100번 던졌는데 앞면, 뒷면이 반반씩 나온건 분산(variance)이 커졌음을 의미합니다. 다음번 동전을 던졌을 때 예측하는게 훨씬 어려워졌다는 말이죠. 따라서 분산이 커질수록 같은 크기의 확신을 얻기위해 더 큰 샘플이 필요하다는 의미입니다."
      ]
    },
    {
      "cell_type": "markdown",
      "metadata": {
        "id": "Cpa1mitdaxc4"
      },
      "source": [
        "이번에는 룰렛을 예시로 들어보겠습니다. 룰렛은 공이 멈추는 숫자 + 색깔을 맞추는 게임입니다."
      ]
    },
    {
      "cell_type": "code",
      "metadata": {
        "id": "LlOO_-ggQIQc"
      },
      "source": [
        "import random\n",
        "\n",
        "class FairRoulette():\n",
        "  def __init__(self):\n",
        "    self.pockets = []\n",
        "    for i in range(1, 37):\n",
        "      self.pockets.append(i)\n",
        "    self.ball = None\n",
        "    self.pocketOdds = len(self.pockets) - 1\n",
        "  \n",
        "  def spin(self):\n",
        "    self.ball = random.choice(self.pockets)\n",
        "\n",
        "  def betPocket(self, pocket, amt):\n",
        "    if str(pocket) == str(self.ball):\n",
        "      return amt*self.pocketOdds\n",
        "    else:\n",
        "      return -amt\n",
        "\n",
        "  def __str__(self):\n",
        "    return 'Fair Roulette'"
      ],
      "execution_count": 2,
      "outputs": []
    },
    {
      "cell_type": "code",
      "metadata": {
        "colab": {
          "base_uri": "https://localhost:8080/"
        },
        "id": "MEuwIWIRQ6OM",
        "outputId": "c9762aa0-36b6-4144-fa9c-98d0d74695b8"
      },
      "source": [
        "def playRoulette(game, numSpins, pocket, bet, toPrint):\n",
        "  totPocket = 0\n",
        "  for i in range(numSpins):\n",
        "    game.spin()\n",
        "    totPocket += game.betPocket(pocket, bet)\n",
        "  if toPrint:\n",
        "    print(numSpins, 'spins of', game)\n",
        "    print('Expected return betting', pocket, '=', str(100 * totPocket / numSpins) + '%\\n')\n",
        "  return (totPocket / numSpins)\n",
        "\n",
        "game = FairRoulette()\n",
        "for numSpins in (100, 100000):\n",
        "  for i in range(3):\n",
        "    playRoulette(game, numSpins, 2, 1, True)"
      ],
      "execution_count": 6,
      "outputs": [
        {
          "output_type": "stream",
          "text": [
            "100 spins of Fair Roulette\n",
            "Expected return betting 2 = -64.0%\n",
            "\n",
            "100 spins of Fair Roulette\n",
            "Expected return betting 2 = -28.0%\n",
            "\n",
            "100 spins of Fair Roulette\n",
            "Expected return betting 2 = 80.0%\n",
            "\n",
            "100000 spins of Fair Roulette\n",
            "Expected return betting 2 = -0.316%\n",
            "\n",
            "100000 spins of Fair Roulette\n",
            "Expected return betting 2 = -0.388%\n",
            "\n",
            "100000 spins of Fair Roulette\n",
            "Expected return betting 2 = 0.584%\n",
            "\n"
          ],
          "name": "stdout"
        }
      ]
    },
    {
      "cell_type": "markdown",
      "metadata": {
        "id": "CwaNLobBeP17"
      },
      "source": [
        "## **3. Law of Large number**"
      ]
    },
    {
      "cell_type": "markdown",
      "metadata": {
        "id": "SwgyzUm3gYUG"
      },
      "source": [
        "위의 Roulette Game을 통해 알 수 있는 것이 바로 **대수의 법칙(law of large number)**입니다. 대수의 법칙이란 **성공확률이 p인 독립시행을 무한히 반복한다면 사건 발생확률이 p가 아닌 확률이 0에 수렴**한다는 법칙입니다. 즉, 위의 Roulette Gam에서 만일 룰렛을 무한히 반복한다면 기대 수익은 바로 0이라는 의미입니다."
      ]
    },
    {
      "cell_type": "markdown",
      "metadata": {
        "id": "oLV2F_5TiOAl"
      },
      "source": [
        "### **Gambler's Fallacy**"
      ]
    },
    {
      "cell_type": "markdown",
      "metadata": {
        "id": "2hseQEp4kEN0"
      },
      "source": [
        "중요한 것은 '무한히'라는 표현인데, 따라서 N번 보다는 N+alpha번이 더 좋은 방법이라는 뜻이 됩니다. 가끔 이 법칙을 잘못이해하는 사람들이 있는데, 이를 **gambler's fallacy**라고 합니다."
      ]
    },
    {
      "cell_type": "markdown",
      "metadata": {
        "id": "VtQhZcklkUTu"
      },
      "source": [
        "야구를 보는데 평소 타율이 높았던 타자가 헛스윙을 여러 번 했다고 합시다. 이때 아나운서는 다음번 타석에서 저 타자가 잘 칠 것이라고 말합니다. 왜냐면 그는 평소에 잘 치기 때문이죠. 즉, 사람들은 편차가 미래로 갈수록 잠잠해지리라 생각하는 것입니다. 하지만 이는 사실이 아닙니다. 룰렛 이야기를 다시 해봅시다. 만약 여러분이 검정이나 빨강에 배팅한다고 합시다. 26번 연속으로 빨강이 나올 확률은 (1/67108865)입니다."
      ]
    },
    {
      "cell_type": "markdown",
      "metadata": {
        "id": "T8UUlRe7llI-"
      },
      "source": [
        "## **4. Regression to the Mean**"
      ]
    },
    {
      "cell_type": "markdown",
      "metadata": {
        "id": "c1j9S3UpktAj"
      },
      "source": [
        "그런데 첫번째 시행부터 25번째 시행까지 연속으로 빨강이 나왔다고 했을 때, 26번째가 빨강일 확률은 1/2 입니다. 왜냐면 이는 독립시행이기 때문입니다. 사람들이 gambler’s fallacy와 헷갈리는 것은 **평균으로의 회귀(regression to the mean)**입니다."
      ]
    },
    {
      "cell_type": "markdown",
      "metadata": {
        "id": "bWnRvvZxmKrm"
      },
      "source": [
        "# 11/30 0:22"
      ]
    },
    {
      "cell_type": "markdown",
      "metadata": {
        "id": "rm6WiX6LmqOm"
      },
      "source": [
        "몬테카를로 방법은 특성상 통계 자료가 많을수록, 또 입력 값의 분포가 고를수록 결과의 정밀성이 보장된다. 그래서 컴퓨터를 이용해 시물레이션함\n",
        "(통계 자료 UP, 입력값의 분포 고를수록 => 정밀성 UP)\n",
        "\n",
        "특징:\n",
        "1. 적용이 쉬움\n",
        "(실제로 파이의 값을 정확히 구하기 위해서는 무한급수에 관한 지식과 오차범위에 관한 지식 등 배경 지식을 바탕으로 올바른 알고리즘을 만들어 그 값을 계산해야 하지만, 몬테카를로 방법은 절차에 관계없이 코드 몇 줄으로 비교적 정확한 수치를 얻을 수 있음)\n",
        "\n",
        "몬테카를로 방법 적용시\n",
        "- 입력 값의 확률 분포와 실험의 수학적 모델링이 정확해야함 (아니면 => 무의미)\n",
        "- 난수의 분포가 분석에 큰 영향을 미치므로 필요한 난수의 범위와 분포에 따른 올바른 난수 생성 함수에 주의"
      ]
    },
    {
      "cell_type": "code",
      "metadata": {
        "id": "dIMZ9sFdb8ij"
      },
      "source": [
        ""
      ],
      "execution_count": null,
      "outputs": []
    }
  ]
}