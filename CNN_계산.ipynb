{
  "nbformat": 4,
  "nbformat_minor": 0,
  "metadata": {
    "colab": {
      "name": "CNN 계산.ipynb",
      "provenance": [],
      "authorship_tag": "ABX9TyPB6Xm2BubOeWjSyIC/M+HA",
      "include_colab_link": true
    },
    "kernelspec": {
      "name": "python3",
      "display_name": "Python 3"
    }
  },
  "cells": [
    {
      "cell_type": "markdown",
      "metadata": {
        "id": "view-in-github",
        "colab_type": "text"
      },
      "source": [
        "<a href=\"https://colab.research.google.com/github/viriditass/Miscellaneous/blob/main/CNN_%EA%B3%84%EC%82%B0.ipynb\" target=\"_parent\"><img src=\"https://colab.research.google.com/assets/colab-badge.svg\" alt=\"Open In Colab\"/></a>"
      ]
    },
    {
      "cell_type": "markdown",
      "metadata": {
        "id": "fc8Jj2EQoO4J"
      },
      "source": [
        "# **CNN의 parameter 개수와 tensor 크기 계산**"
      ]
    },
    {
      "cell_type": "markdown",
      "metadata": {
        "id": "SZjrKdxdALlR"
      },
      "source": [
        "## **Convolution layer의 output tensor size**"
      ]
    },
    {
      "cell_type": "markdown",
      "metadata": {
        "id": "AAs3xpDeAV-b"
      },
      "source": [
        "#### 각각 기호를 아래와 같이 정의\r\n",
        "- **O**: Size(width) of output image\r\n",
        "- **I**: Size(width) of input image\r\n",
        "- **K**: Size(width) of kernels used in the Conv layer\r\n",
        "- **N**: Number of kernels\r\n",
        "- **S**: Stride of the convolution operation\r\n",
        "- **P**: Padding size\r\n",
        "\r\n",
        "**O**: (Size(width) of output image)는 다음과 같이 정의 된다.\r\n",
        "\r\n",
        "출력 이미지의 채널 수는 커널의 갯수(**N**)와 같다."
      ]
    },
    {
      "cell_type": "markdown",
      "metadata": {
        "id": "en-GXiT2AIoK"
      },
      "source": [
        "![image.png](data:image/png;base64,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)"
      ]
    }
  ]
}