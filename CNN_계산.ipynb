{
  "nbformat": 4,
  "nbformat_minor": 0,
  "metadata": {
    "colab": {
      "name": "CNN 계산.ipynb",
      "provenance": [],
      "authorship_tag": "ABX9TyPkSbZzD27JeOtO0ukLivT3",
      "include_colab_link": true
    },
    "kernelspec": {
      "name": "python3",
      "display_name": "Python 3"
    }
  },
  "cells": [
    {
      "cell_type": "markdown",
      "metadata": {
        "id": "view-in-github",
        "colab_type": "text"
      },
      "source": [
        "<a href=\"https://colab.research.google.com/github/viriditass/Miscellaneous/blob/main/CNN_%EA%B3%84%EC%82%B0.ipynb\" target=\"_parent\"><img src=\"https://colab.research.google.com/assets/colab-badge.svg\" alt=\"Open In Colab\"/></a>"
      ]
    },
    {
      "cell_type": "markdown",
      "metadata": {
        "id": "fc8Jj2EQoO4J"
      },
      "source": [
        "# **CNN의 parameter 개수와 tensor 크기 계산**"
      ]
    },
    {
      "cell_type": "code",
      "metadata": {
        "id": "lxvU9z7pobMh"
      },
      "source": [
        ""
      ],
      "execution_count": null,
      "outputs": []
    }
  ]
}